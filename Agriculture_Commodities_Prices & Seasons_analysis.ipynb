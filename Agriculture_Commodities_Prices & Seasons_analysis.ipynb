{
 "cells": [
  {
   "cell_type": "markdown",
   "metadata": {},
   "source": [
    "# Challenge 1: Agriculture Commodities, Prices & Seasons\n",
    " Aim: Your team is working on building a variety of insight packs to measure key trends in the Agriculture sector in India. You are presented with a data set around Agriculture and your aim is\n",
    "to understand trends in APMC (Agricultural produce market committee)/mandi price & quantity\n",
    "arrival data for different commodities in Maharashtra.\n",
    "Objective:\n",
    "1. Test and filter outliers.\n",
    "2. Understand price fluctuations accounting the seasonal effect\n",
    "1. Detect seasonality type (multiplicative or additive) for each cluster of APMC and\n",
    "commodities\n",
    "2. De-seasonalise prices for each commodity and APMC according to the detected\n",
    "seasonality type\n",
    "3. Compare prices in APMC/Mandi with MSP(Minimum Support Price)- raw and\n",
    "deseasonalised\n",
    "4. Flag set of APMC/mandis and commodities with highest price fluctuation across different\n",
    "commodities in each relevant season, and year.\n",
    "\n",
    "Variable description:\n",
    "1. msprice- Minimum Support Price\n",
    "2. arrivals_in_qtl- Quantity arrival in market (in quintal)\n",
    "3. min_price- Minimum price charged per quintal\n",
    "4. max_price- Maximum price charged per quintal\n",
    "5. modal_price- Mode (Average) price charged per quintal"
   ]
  },
  {
   "cell_type": "code",
   "execution_count": 379,
   "metadata": {},
   "outputs": [],
   "source": [
    "import pandas as pd\n",
    "import numpy as np\n",
    "from statsmodels.tsa.stattools import acf\n",
    "from statsmodels.tsa.seasonal import seasonal_decompose\n",
    "from statsmodels.graphics.tsaplots import plot_acf\n",
    "from statsmodels.tsa.stattools import adfuller\n",
    "import matplotlib.pyplot as plt"
   ]
  },
  {
   "cell_type": "code",
   "execution_count": 370,
   "metadata": {},
   "outputs": [
    {
     "data": {
      "text/html": [
       "<div>\n",
       "<style scoped>\n",
       "    .dataframe tbody tr th:only-of-type {\n",
       "        vertical-align: middle;\n",
       "    }\n",
       "\n",
       "    .dataframe tbody tr th {\n",
       "        vertical-align: top;\n",
       "    }\n",
       "\n",
       "    .dataframe thead th {\n",
       "        text-align: right;\n",
       "    }\n",
       "</style>\n",
       "<table border=\"1\" class=\"dataframe\">\n",
       "  <thead>\n",
       "    <tr style=\"text-align: right;\">\n",
       "      <th></th>\n",
       "      <th>commodity</th>\n",
       "      <th>year</th>\n",
       "      <th>Type</th>\n",
       "      <th>msprice</th>\n",
       "      <th>msp_filter</th>\n",
       "    </tr>\n",
       "  </thead>\n",
       "  <tbody>\n",
       "    <tr>\n",
       "      <th>0</th>\n",
       "      <td>PADDY-UNHUSKED</td>\n",
       "      <td>2012</td>\n",
       "      <td>Kharif Crops</td>\n",
       "      <td>1250.0</td>\n",
       "      <td>1</td>\n",
       "    </tr>\n",
       "    <tr>\n",
       "      <th>1</th>\n",
       "      <td>RICE(PADDY-HUS)</td>\n",
       "      <td>2012</td>\n",
       "      <td>Kharif Crops</td>\n",
       "      <td>1280.0</td>\n",
       "      <td>1</td>\n",
       "    </tr>\n",
       "    <tr>\n",
       "      <th>2</th>\n",
       "      <td>Jowar_Hybrid</td>\n",
       "      <td>2012</td>\n",
       "      <td>Kharif Crops</td>\n",
       "      <td>1500.0</td>\n",
       "      <td>1</td>\n",
       "    </tr>\n",
       "    <tr>\n",
       "      <th>3</th>\n",
       "      <td>SORGUM(JAWAR)</td>\n",
       "      <td>2012</td>\n",
       "      <td>Kharif Crops</td>\n",
       "      <td>1520.0</td>\n",
       "      <td>1</td>\n",
       "    </tr>\n",
       "    <tr>\n",
       "      <th>4</th>\n",
       "      <td>BAJRI</td>\n",
       "      <td>2012</td>\n",
       "      <td>Kharif Crops</td>\n",
       "      <td>1175.0</td>\n",
       "      <td>1</td>\n",
       "    </tr>\n",
       "  </tbody>\n",
       "</table>\n",
       "</div>"
      ],
      "text/plain": [
       "         commodity  year          Type  msprice  msp_filter\n",
       "0   PADDY-UNHUSKED  2012  Kharif Crops   1250.0           1\n",
       "1  RICE(PADDY-HUS)  2012  Kharif Crops   1280.0           1\n",
       "2     Jowar_Hybrid  2012  Kharif Crops   1500.0           1\n",
       "3    SORGUM(JAWAR)  2012  Kharif Crops   1520.0           1\n",
       "4            BAJRI  2012  Kharif Crops   1175.0           1"
      ]
     },
     "execution_count": 370,
     "metadata": {},
     "output_type": "execute_result"
    }
   ],
   "source": [
    "data_1 = pd.read_csv(\"CMO_MSP_MANDI.csv\")\n",
    "data_1.head()"
   ]
  },
  {
   "cell_type": "markdown",
   "metadata": {},
   "source": [
    "## Data Exploration"
   ]
  },
  {
   "cell_type": "markdown",
   "metadata": {},
   "source": [
    "In the below cell, we are displaying the description of the CMO_MSP_MANDI data. "
   ]
  },
  {
   "cell_type": "code",
   "execution_count": 380,
   "metadata": {},
   "outputs": [
    {
     "data": {
      "text/html": [
       "<div>\n",
       "<style scoped>\n",
       "    .dataframe tbody tr th:only-of-type {\n",
       "        vertical-align: middle;\n",
       "    }\n",
       "\n",
       "    .dataframe tbody tr th {\n",
       "        vertical-align: top;\n",
       "    }\n",
       "\n",
       "    .dataframe thead th {\n",
       "        text-align: right;\n",
       "    }\n",
       "</style>\n",
       "<table border=\"1\" class=\"dataframe\">\n",
       "  <thead>\n",
       "    <tr style=\"text-align: right;\">\n",
       "      <th></th>\n",
       "      <th>commodity</th>\n",
       "      <th>year</th>\n",
       "      <th>Type</th>\n",
       "      <th>msprice</th>\n",
       "      <th>msp_filter</th>\n",
       "    </tr>\n",
       "  </thead>\n",
       "  <tbody>\n",
       "    <tr>\n",
       "      <th>count</th>\n",
       "      <td>155</td>\n",
       "      <td>155.000000</td>\n",
       "      <td>155</td>\n",
       "      <td>145.000000</td>\n",
       "      <td>155.0</td>\n",
       "    </tr>\n",
       "    <tr>\n",
       "      <th>unique</th>\n",
       "      <td>32</td>\n",
       "      <td>NaN</td>\n",
       "      <td>3</td>\n",
       "      <td>NaN</td>\n",
       "      <td>NaN</td>\n",
       "    </tr>\n",
       "    <tr>\n",
       "      <th>top</th>\n",
       "      <td>SUNFLOWER</td>\n",
       "      <td>NaN</td>\n",
       "      <td>Kharif Crops</td>\n",
       "      <td>NaN</td>\n",
       "      <td>NaN</td>\n",
       "    </tr>\n",
       "    <tr>\n",
       "      <th>freq</th>\n",
       "      <td>5</td>\n",
       "      <td>NaN</td>\n",
       "      <td>90</td>\n",
       "      <td>NaN</td>\n",
       "      <td>NaN</td>\n",
       "    </tr>\n",
       "    <tr>\n",
       "      <th>mean</th>\n",
       "      <td>NaN</td>\n",
       "      <td>2014.000000</td>\n",
       "      <td>NaN</td>\n",
       "      <td>2822.448276</td>\n",
       "      <td>1.0</td>\n",
       "    </tr>\n",
       "    <tr>\n",
       "      <th>std</th>\n",
       "      <td>NaN</td>\n",
       "      <td>1.418798</td>\n",
       "      <td>NaN</td>\n",
       "      <td>1441.725928</td>\n",
       "      <td>0.0</td>\n",
       "    </tr>\n",
       "    <tr>\n",
       "      <th>min</th>\n",
       "      <td>NaN</td>\n",
       "      <td>2012.000000</td>\n",
       "      <td>NaN</td>\n",
       "      <td>170.000000</td>\n",
       "      <td>1.0</td>\n",
       "    </tr>\n",
       "    <tr>\n",
       "      <th>25%</th>\n",
       "      <td>NaN</td>\n",
       "      <td>2013.000000</td>\n",
       "      <td>NaN</td>\n",
       "      <td>1470.000000</td>\n",
       "      <td>1.0</td>\n",
       "    </tr>\n",
       "    <tr>\n",
       "      <th>50%</th>\n",
       "      <td>NaN</td>\n",
       "      <td>2014.000000</td>\n",
       "      <td>NaN</td>\n",
       "      <td>2970.000000</td>\n",
       "      <td>1.0</td>\n",
       "    </tr>\n",
       "    <tr>\n",
       "      <th>75%</th>\n",
       "      <td>NaN</td>\n",
       "      <td>2015.000000</td>\n",
       "      <td>NaN</td>\n",
       "      <td>4000.000000</td>\n",
       "      <td>1.0</td>\n",
       "    </tr>\n",
       "    <tr>\n",
       "      <th>max</th>\n",
       "      <td>NaN</td>\n",
       "      <td>2016.000000</td>\n",
       "      <td>NaN</td>\n",
       "      <td>6240.000000</td>\n",
       "      <td>1.0</td>\n",
       "    </tr>\n",
       "  </tbody>\n",
       "</table>\n",
       "</div>"
      ],
      "text/plain": [
       "        commodity         year          Type      msprice  msp_filter\n",
       "count         155   155.000000           155   145.000000       155.0\n",
       "unique         32          NaN             3          NaN         NaN\n",
       "top     SUNFLOWER          NaN  Kharif Crops          NaN         NaN\n",
       "freq            5          NaN            90          NaN         NaN\n",
       "mean          NaN  2014.000000           NaN  2822.448276         1.0\n",
       "std           NaN     1.418798           NaN  1441.725928         0.0\n",
       "min           NaN  2012.000000           NaN   170.000000         1.0\n",
       "25%           NaN  2013.000000           NaN  1470.000000         1.0\n",
       "50%           NaN  2014.000000           NaN  2970.000000         1.0\n",
       "75%           NaN  2015.000000           NaN  4000.000000         1.0\n",
       "max           NaN  2016.000000           NaN  6240.000000         1.0"
      ]
     },
     "execution_count": 380,
     "metadata": {},
     "output_type": "execute_result"
    }
   ],
   "source": [
    "data_1.describe(include = \"all\")"
   ]
  },
  {
   "cell_type": "markdown",
   "metadata": {},
   "source": [
    " Below two cells are showing the distribution of msprice in the respective years and histogram distribution of msprice respectively."
   ]
  },
  {
   "cell_type": "code",
   "execution_count": 382,
   "metadata": {},
   "outputs": [
    {
     "data": {
      "text/plain": [
       "<matplotlib.collections.PathCollection at 0x19f6daebfd0>"
      ]
     },
     "execution_count": 382,
     "metadata": {},
     "output_type": "execute_result"
    },
    {
     "data": {
      "image/png": "[encoded data removed]",
      "text/plain": [
       "<Figure size 921.6x633.6 with 1 Axes>"
      ]
     },
     "metadata": {},
     "output_type": "display_data"
    }
   ],
   "source": [
    "plt.scatter(data_1[\"year\"], data_1[\"msprice\"])"
   ]
  },
  {
   "cell_type": "code",
   "execution_count": 391,
   "metadata": {},
   "outputs": [
    {
     "data": {
      "text/plain": [
       "<matplotlib.axes._subplots.AxesSubplot at 0x19f6d1de4e0>"
      ]
     },
     "execution_count": 391,
     "metadata": {},
     "output_type": "execute_result"
    },
    {
     "data": {
      "image/png": "[encoded data removed]",
      "text/plain": [
       "<Figure size 432x432 with 1 Axes>"
      ]
     },
     "metadata": {},
     "output_type": "display_data"
    }
   ],
   "source": [
    "data_1[\"msprice\"].hist(bins=10,figsize=[6,6])"
   ]
  },
  {
   "cell_type": "code",
   "execution_count": 406,
   "metadata": {},
   "outputs": [
    {
     "name": "stdout",
     "output_type": "stream",
     "text": [
      "No of unique commodity in CMO_MSP_Mandi:  32\n",
      "No of unique years CMO_MSP_Mandi:  5\n"
     ]
    }
   ],
   "source": [
    "#list of unique commodities and years\n",
    "\n",
    "unique_commodity = list(data_1[\"commodity\"].unique())\n",
    "unique_year = list(data_1[\"year\"].unique())\n",
    "print(\"No of unique commodity in CMO_MSP_Mandi: \", len(unique_commodity))\n",
    "print(\"No of unique years CMO_MSP_Mandi: \", len(unique_year))"
   ]
  },
  {
   "cell_type": "code",
   "execution_count": 282,
   "metadata": {},
   "outputs": [
    {
     "data": {
      "text/html": [
       "<div>\n",
       "<style scoped>\n",
       "    .dataframe tbody tr th:only-of-type {\n",
       "        vertical-align: middle;\n",
       "    }\n",
       "\n",
       "    .dataframe tbody tr th {\n",
       "        vertical-align: top;\n",
       "    }\n",
       "\n",
       "    .dataframe thead th {\n",
       "        text-align: right;\n",
       "    }\n",
       "</style>\n",
       "<table border=\"1\" class=\"dataframe\">\n",
       "  <thead>\n",
       "    <tr style=\"text-align: right;\">\n",
       "      <th></th>\n",
       "      <th>APMC</th>\n",
       "      <th>Commodity</th>\n",
       "      <th>Year</th>\n",
       "      <th>Month</th>\n",
       "      <th>arrivals_in_qtl</th>\n",
       "      <th>min_price</th>\n",
       "      <th>max_price</th>\n",
       "      <th>modal_price</th>\n",
       "      <th>date</th>\n",
       "      <th>district_name</th>\n",
       "      <th>state_name</th>\n",
       "    </tr>\n",
       "  </thead>\n",
       "  <tbody>\n",
       "    <tr>\n",
       "      <th>0</th>\n",
       "      <td>Ahmednagar</td>\n",
       "      <td>Bajri</td>\n",
       "      <td>2015</td>\n",
       "      <td>April</td>\n",
       "      <td>79</td>\n",
       "      <td>1406</td>\n",
       "      <td>1538</td>\n",
       "      <td>1463</td>\n",
       "      <td>2015-04-01</td>\n",
       "      <td>Ahmadnagar</td>\n",
       "      <td>Maharashtra</td>\n",
       "    </tr>\n",
       "    <tr>\n",
       "      <th>1</th>\n",
       "      <td>Ahmednagar</td>\n",
       "      <td>Bajri</td>\n",
       "      <td>2016</td>\n",
       "      <td>April</td>\n",
       "      <td>106</td>\n",
       "      <td>1788</td>\n",
       "      <td>1925</td>\n",
       "      <td>1875</td>\n",
       "      <td>2016-04-01</td>\n",
       "      <td>Ahmadnagar</td>\n",
       "      <td>Maharashtra</td>\n",
       "    </tr>\n",
       "    <tr>\n",
       "      <th>2</th>\n",
       "      <td>Ahmednagar</td>\n",
       "      <td>Wheat(Husked)</td>\n",
       "      <td>2015</td>\n",
       "      <td>April</td>\n",
       "      <td>1253</td>\n",
       "      <td>1572</td>\n",
       "      <td>1890</td>\n",
       "      <td>1731</td>\n",
       "      <td>2015-04-01</td>\n",
       "      <td>Ahmadnagar</td>\n",
       "      <td>Maharashtra</td>\n",
       "    </tr>\n",
       "    <tr>\n",
       "      <th>3</th>\n",
       "      <td>Ahmednagar</td>\n",
       "      <td>Wheat(Husked)</td>\n",
       "      <td>2016</td>\n",
       "      <td>April</td>\n",
       "      <td>387</td>\n",
       "      <td>1750</td>\n",
       "      <td>2220</td>\n",
       "      <td>1999</td>\n",
       "      <td>2016-04-01</td>\n",
       "      <td>Ahmadnagar</td>\n",
       "      <td>Maharashtra</td>\n",
       "    </tr>\n",
       "    <tr>\n",
       "      <th>4</th>\n",
       "      <td>Ahmednagar</td>\n",
       "      <td>Sorgum(Jawar)</td>\n",
       "      <td>2015</td>\n",
       "      <td>April</td>\n",
       "      <td>3825</td>\n",
       "      <td>1600</td>\n",
       "      <td>2200</td>\n",
       "      <td>1900</td>\n",
       "      <td>2015-04-01</td>\n",
       "      <td>Ahmadnagar</td>\n",
       "      <td>Maharashtra</td>\n",
       "    </tr>\n",
       "  </tbody>\n",
       "</table>\n",
       "</div>"
      ],
      "text/plain": [
       "         APMC      Commodity  Year  Month  arrivals_in_qtl  min_price  \\\n",
       "0  Ahmednagar          Bajri  2015  April               79       1406   \n",
       "1  Ahmednagar          Bajri  2016  April              106       1788   \n",
       "2  Ahmednagar  Wheat(Husked)  2015  April             1253       1572   \n",
       "3  Ahmednagar  Wheat(Husked)  2016  April              387       1750   \n",
       "4  Ahmednagar  Sorgum(Jawar)  2015  April             3825       1600   \n",
       "\n",
       "   max_price  modal_price       date district_name   state_name  \n",
       "0       1538         1463 2015-04-01    Ahmadnagar  Maharashtra  \n",
       "1       1925         1875 2016-04-01    Ahmadnagar  Maharashtra  \n",
       "2       1890         1731 2015-04-01    Ahmadnagar  Maharashtra  \n",
       "3       2220         1999 2016-04-01    Ahmadnagar  Maharashtra  \n",
       "4       2200         1900 2015-04-01    Ahmadnagar  Maharashtra  "
      ]
     },
     "execution_count": 282,
     "metadata": {},
     "output_type": "execute_result"
    }
   ],
   "source": [
    "data_2 = pd.read_csv(\"Monthly_data_cmo (1).csv\")\n",
    "data_2[\"date\"] = pd.to_datetime(data_2[\"date\"])\n",
    "data_2.head()"
   ]
  },
  {
   "cell_type": "code",
   "execution_count": 398,
   "metadata": {},
   "outputs": [
    {
     "data": {
      "text/html": [
       "<div>\n",
       "<style scoped>\n",
       "    .dataframe tbody tr th:only-of-type {\n",
       "        vertical-align: middle;\n",
       "    }\n",
       "\n",
       "    .dataframe tbody tr th {\n",
       "        vertical-align: top;\n",
       "    }\n",
       "\n",
       "    .dataframe thead th {\n",
       "        text-align: right;\n",
       "    }\n",
       "</style>\n",
       "<table border=\"1\" class=\"dataframe\">\n",
       "  <thead>\n",
       "    <tr style=\"text-align: right;\">\n",
       "      <th></th>\n",
       "      <th>APMC</th>\n",
       "      <th>Commodity</th>\n",
       "      <th>Year</th>\n",
       "      <th>Month</th>\n",
       "      <th>arrivals_in_qtl</th>\n",
       "      <th>min_price</th>\n",
       "      <th>max_price</th>\n",
       "      <th>modal_price</th>\n",
       "      <th>date</th>\n",
       "      <th>district_name</th>\n",
       "      <th>state_name</th>\n",
       "    </tr>\n",
       "  </thead>\n",
       "  <tbody>\n",
       "    <tr>\n",
       "      <th>count</th>\n",
       "      <td>62429</td>\n",
       "      <td>62429</td>\n",
       "      <td>62429.000000</td>\n",
       "      <td>62429</td>\n",
       "      <td>6.242900e+04</td>\n",
       "      <td>6.242900e+04</td>\n",
       "      <td>6.242900e+04</td>\n",
       "      <td>62429.000000</td>\n",
       "      <td>62429</td>\n",
       "      <td>62429</td>\n",
       "      <td>62429</td>\n",
       "    </tr>\n",
       "    <tr>\n",
       "      <th>unique</th>\n",
       "      <td>349</td>\n",
       "      <td>352</td>\n",
       "      <td>NaN</td>\n",
       "      <td>12</td>\n",
       "      <td>NaN</td>\n",
       "      <td>NaN</td>\n",
       "      <td>NaN</td>\n",
       "      <td>NaN</td>\n",
       "      <td>27</td>\n",
       "      <td>33</td>\n",
       "      <td>1</td>\n",
       "    </tr>\n",
       "    <tr>\n",
       "      <th>top</th>\n",
       "      <td>Mumbai</td>\n",
       "      <td>Gram</td>\n",
       "      <td>NaN</td>\n",
       "      <td>November</td>\n",
       "      <td>NaN</td>\n",
       "      <td>NaN</td>\n",
       "      <td>NaN</td>\n",
       "      <td>NaN</td>\n",
       "      <td>2016-01-01 00:00:00</td>\n",
       "      <td>Pune</td>\n",
       "      <td>Maharashtra</td>\n",
       "    </tr>\n",
       "    <tr>\n",
       "      <th>freq</th>\n",
       "      <td>1538</td>\n",
       "      <td>3972</td>\n",
       "      <td>NaN</td>\n",
       "      <td>7183</td>\n",
       "      <td>NaN</td>\n",
       "      <td>NaN</td>\n",
       "      <td>NaN</td>\n",
       "      <td>NaN</td>\n",
       "      <td>2769</td>\n",
       "      <td>6366</td>\n",
       "      <td>62429</td>\n",
       "    </tr>\n",
       "    <tr>\n",
       "      <th>first</th>\n",
       "      <td>NaN</td>\n",
       "      <td>NaN</td>\n",
       "      <td>NaN</td>\n",
       "      <td>NaN</td>\n",
       "      <td>NaN</td>\n",
       "      <td>NaN</td>\n",
       "      <td>NaN</td>\n",
       "      <td>NaN</td>\n",
       "      <td>2014-09-01 00:00:00</td>\n",
       "      <td>NaN</td>\n",
       "      <td>NaN</td>\n",
       "    </tr>\n",
       "    <tr>\n",
       "      <th>last</th>\n",
       "      <td>NaN</td>\n",
       "      <td>NaN</td>\n",
       "      <td>NaN</td>\n",
       "      <td>NaN</td>\n",
       "      <td>NaN</td>\n",
       "      <td>NaN</td>\n",
       "      <td>NaN</td>\n",
       "      <td>NaN</td>\n",
       "      <td>2016-11-01 00:00:00</td>\n",
       "      <td>NaN</td>\n",
       "      <td>NaN</td>\n",
       "    </tr>\n",
       "    <tr>\n",
       "      <th>mean</th>\n",
       "      <td>NaN</td>\n",
       "      <td>NaN</td>\n",
       "      <td>2015.337503</td>\n",
       "      <td>NaN</td>\n",
       "      <td>6.043088e+03</td>\n",
       "      <td>2.945228e+03</td>\n",
       "      <td>3.688814e+03</td>\n",
       "      <td>3296.003989</td>\n",
       "      <td>NaN</td>\n",
       "      <td>NaN</td>\n",
       "      <td>NaN</td>\n",
       "    </tr>\n",
       "    <tr>\n",
       "      <th>std</th>\n",
       "      <td>NaN</td>\n",
       "      <td>NaN</td>\n",
       "      <td>0.690451</td>\n",
       "      <td>NaN</td>\n",
       "      <td>3.470331e+04</td>\n",
       "      <td>1.318396e+04</td>\n",
       "      <td>7.662962e+03</td>\n",
       "      <td>3607.792534</td>\n",
       "      <td>NaN</td>\n",
       "      <td>NaN</td>\n",
       "      <td>NaN</td>\n",
       "    </tr>\n",
       "    <tr>\n",
       "      <th>min</th>\n",
       "      <td>NaN</td>\n",
       "      <td>NaN</td>\n",
       "      <td>2014.000000</td>\n",
       "      <td>NaN</td>\n",
       "      <td>1.000000e+00</td>\n",
       "      <td>0.000000e+00</td>\n",
       "      <td>0.000000e+00</td>\n",
       "      <td>0.000000</td>\n",
       "      <td>NaN</td>\n",
       "      <td>NaN</td>\n",
       "      <td>NaN</td>\n",
       "    </tr>\n",
       "    <tr>\n",
       "      <th>25%</th>\n",
       "      <td>NaN</td>\n",
       "      <td>NaN</td>\n",
       "      <td>2015.000000</td>\n",
       "      <td>NaN</td>\n",
       "      <td>3.800000e+01</td>\n",
       "      <td>1.250000e+03</td>\n",
       "      <td>1.600000e+03</td>\n",
       "      <td>1450.000000</td>\n",
       "      <td>NaN</td>\n",
       "      <td>NaN</td>\n",
       "      <td>NaN</td>\n",
       "    </tr>\n",
       "    <tr>\n",
       "      <th>50%</th>\n",
       "      <td>NaN</td>\n",
       "      <td>NaN</td>\n",
       "      <td>2015.000000</td>\n",
       "      <td>NaN</td>\n",
       "      <td>2.110000e+02</td>\n",
       "      <td>1.976000e+03</td>\n",
       "      <td>2.797000e+03</td>\n",
       "      <td>2425.000000</td>\n",
       "      <td>NaN</td>\n",
       "      <td>NaN</td>\n",
       "      <td>NaN</td>\n",
       "    </tr>\n",
       "    <tr>\n",
       "      <th>75%</th>\n",
       "      <td>NaN</td>\n",
       "      <td>NaN</td>\n",
       "      <td>2016.000000</td>\n",
       "      <td>NaN</td>\n",
       "      <td>1.364000e+03</td>\n",
       "      <td>3.900000e+03</td>\n",
       "      <td>4.647000e+03</td>\n",
       "      <td>4257.000000</td>\n",
       "      <td>NaN</td>\n",
       "      <td>NaN</td>\n",
       "      <td>NaN</td>\n",
       "    </tr>\n",
       "    <tr>\n",
       "      <th>max</th>\n",
       "      <td>NaN</td>\n",
       "      <td>NaN</td>\n",
       "      <td>2016.000000</td>\n",
       "      <td>NaN</td>\n",
       "      <td>1.450254e+06</td>\n",
       "      <td>3.153038e+06</td>\n",
       "      <td>1.600090e+06</td>\n",
       "      <td>142344.000000</td>\n",
       "      <td>NaN</td>\n",
       "      <td>NaN</td>\n",
       "      <td>NaN</td>\n",
       "    </tr>\n",
       "  </tbody>\n",
       "</table>\n",
       "</div>"
      ],
      "text/plain": [
       "          APMC Commodity          Year     Month  arrivals_in_qtl  \\\n",
       "count    62429     62429  62429.000000     62429     6.242900e+04   \n",
       "unique     349       352           NaN        12              NaN   \n",
       "top     Mumbai      Gram           NaN  November              NaN   \n",
       "freq      1538      3972           NaN      7183              NaN   \n",
       "first      NaN       NaN           NaN       NaN              NaN   \n",
       "last       NaN       NaN           NaN       NaN              NaN   \n",
       "mean       NaN       NaN   2015.337503       NaN     6.043088e+03   \n",
       "std        NaN       NaN      0.690451       NaN     3.470331e+04   \n",
       "min        NaN       NaN   2014.000000       NaN     1.000000e+00   \n",
       "25%        NaN       NaN   2015.000000       NaN     3.800000e+01   \n",
       "50%        NaN       NaN   2015.000000       NaN     2.110000e+02   \n",
       "75%        NaN       NaN   2016.000000       NaN     1.364000e+03   \n",
       "max        NaN       NaN   2016.000000       NaN     1.450254e+06   \n",
       "\n",
       "           min_price     max_price    modal_price                 date  \\\n",
       "count   6.242900e+04  6.242900e+04   62429.000000                62429   \n",
       "unique           NaN           NaN            NaN                   27   \n",
       "top              NaN           NaN            NaN  2016-01-01 00:00:00   \n",
       "freq             NaN           NaN            NaN                 2769   \n",
       "first            NaN           NaN            NaN  2014-09-01 00:00:00   \n",
       "last             NaN           NaN            NaN  2016-11-01 00:00:00   \n",
       "mean    2.945228e+03  3.688814e+03    3296.003989                  NaN   \n",
       "std     1.318396e+04  7.662962e+03    3607.792534                  NaN   \n",
       "min     0.000000e+00  0.000000e+00       0.000000                  NaN   \n",
       "25%     1.250000e+03  1.600000e+03    1450.000000                  NaN   \n",
       "50%     1.976000e+03  2.797000e+03    2425.000000                  NaN   \n",
       "75%     3.900000e+03  4.647000e+03    4257.000000                  NaN   \n",
       "max     3.153038e+06  1.600090e+06  142344.000000                  NaN   \n",
       "\n",
       "       district_name   state_name  \n",
       "count          62429        62429  \n",
       "unique            33            1  \n",
       "top             Pune  Maharashtra  \n",
       "freq            6366        62429  \n",
       "first            NaN          NaN  \n",
       "last             NaN          NaN  \n",
       "mean             NaN          NaN  \n",
       "std              NaN          NaN  \n",
       "min              NaN          NaN  \n",
       "25%              NaN          NaN  \n",
       "50%              NaN          NaN  \n",
       "75%              NaN          NaN  \n",
       "max              NaN          NaN  "
      ]
     },
     "execution_count": 398,
     "metadata": {},
     "output_type": "execute_result"
    }
   ],
   "source": [
    "data_2.describe(include = \"all\")"
   ]
  },
  {
   "cell_type": "code",
   "execution_count": 393,
   "metadata": {},
   "outputs": [
    {
     "data": {
      "text/plain": [
       "[<matplotlib.lines.Line2D at 0x19f6b664080>]"
      ]
     },
     "execution_count": 393,
     "metadata": {},
     "output_type": "execute_result"
    },
    {
     "data": {
      "image/png": "[encoded data removed]",
      "text/plain": [
       "<Figure size 921.6x633.6 with 1 Axes>"
      ]
     },
     "metadata": {},
     "output_type": "display_data"
    }
   ],
   "source": [
    "plt.plot_date(data_2[\"date\"], data_2[\"modal_price\"])"
   ]
  },
  {
   "cell_type": "markdown",
   "metadata": {},
   "source": [
    "In the above cell, we can clearly see that there are some modal prices present in the respective years which are very high in value as compared to other modal prices"
   ]
  },
  {
   "cell_type": "code",
   "execution_count": 397,
   "metadata": {},
   "outputs": [
    {
     "data": {
      "text/plain": [
       "<matplotlib.collections.PathCollection at 0x19f50dbb6d8>"
      ]
     },
     "execution_count": 397,
     "metadata": {},
     "output_type": "execute_result"
    },
    {
     "data": {
      "image/png": "[encoded data removed]",
      "text/plain": [
       "<Figure size 921.6x633.6 with 1 Axes>"
      ]
     },
     "metadata": {},
     "output_type": "display_data"
    }
   ],
   "source": [
    "plt.scatter(data_2[\"modal_price\"], data_2[\"max_price\"])"
   ]
  },
  {
   "cell_type": "markdown",
   "metadata": {},
   "source": [
    "In the above scatter plot between modal_price and max_price, we can clearly see that there is a linear relationship between them"
   ]
  },
  {
   "cell_type": "code",
   "execution_count": 5,
   "metadata": {},
   "outputs": [
    {
     "name": "stdout",
     "output_type": "stream",
     "text": [
      "No of unique APMC:  349\n",
      "No of unique comm:  352\n",
      "No of unique years:  3\n"
     ]
    }
   ],
   "source": [
    "#list of unique commodity, years and APMC\n",
    "\n",
    "apmc = list(data_2[\"APMC\"].unique())\n",
    "comm = list(data_2[\"Commodity\"].unique())\n",
    "years = list(data_2[\"Year\"].unique())\n",
    "print(\"No of unique APMC: \", len(apmc))\n",
    "print(\"No of unique comm: \", len(comm))\n",
    "print(\"No of unique years: \", len(years))"
   ]
  },
  {
   "cell_type": "markdown",
   "metadata": {},
   "source": [
    "## Outlier detection"
   ]
  },
  {
   "cell_type": "markdown",
   "metadata": {},
   "source": [
    "Detecting outliers in the data is extremely important in the data preprocessing step of any analysis. The presence of outliers can often skew results which take into consideration these data points. There are many \"rules of thumb\" for what constitutes an outlier in a dataset. Here, we will use [Tukey's Method for identfying outliers](http://datapigtechnologies.com/blog/index.php/highlighting-outliers-in-your-data-with-the-tukey-method/): An *outlier step* is calculated as 1.5 times the interquartile range (IQR). A data point with a feature that is beyond an outlier step outside of the IQR for that feature is considered abnormal.\n",
    "\n",
    "In the code block below, we will implement the following:\n",
    " - Assign the value of the 25th percentile for the given feature to `Q1`. Use `np.percentile` for this.\n",
    " - Assign the value of the 75th percentile for the given feature to `Q3`. Again, use `np.percentile`.\n",
    " - Assign the calculation of an outlier step for the given feature to `step`.\n",
    " - Remove data points from the dataset by adding indices to the `outliers` list.\n"
   ]
  },
  {
   "cell_type": "code",
   "execution_count": 6,
   "metadata": {},
   "outputs": [],
   "source": [
    "# outlier detection\n",
    "count = 0\n",
    "index_values = []\n",
    "for i in range(len(comm)):\n",
    "    for j in range(len(years)):\n",
    "        count = count+1\n",
    "        df = data_2[(data_2[\"Commodity\"] == comm[i]) & (data_2[\"Year\"] == years[j])]\n",
    "        if len(df)>0:\n",
    "            Q1 = np.percentile(df[\"modal_price\"], 25)\n",
    "            Q3 = np.percentile(df[\"modal_price\"], 75)\n",
    "            step = 1.5*(Q3 - Q1)\n",
    "            outlier_values = df[~(df[\"modal_price\"] >= Q1 - step) & (df[\"modal_price\"] <= Q3 + step)]\n",
    "            index_values = index_values + list(outlier_values.index)\n",
    "            #display(outlier_values)"
   ]
  },
  {
   "cell_type": "code",
   "execution_count": 7,
   "metadata": {
    "scrolled": true
   },
   "outputs": [
    {
     "name": "stdout",
     "output_type": "stream",
     "text": [
      "No of outliers detected:  617\n"
     ]
    }
   ],
   "source": [
    "# printing outliers\n",
    "print(\"No of outliers detected: \", len(index_values))"
   ]
  },
  {
   "cell_type": "markdown",
   "metadata": {},
   "source": [
    "As we can see that there are 617 data points which are outliers. So we will simply drop them from the data. In the below cell, I have dropped the outliers and stored them in the \"good_data\""
   ]
  },
  {
   "cell_type": "code",
   "execution_count": 410,
   "metadata": {
    "scrolled": true
   },
   "outputs": [
    {
     "data": {
      "text/html": [
       "<div>\n",
       "<style scoped>\n",
       "    .dataframe tbody tr th:only-of-type {\n",
       "        vertical-align: middle;\n",
       "    }\n",
       "\n",
       "    .dataframe tbody tr th {\n",
       "        vertical-align: top;\n",
       "    }\n",
       "\n",
       "    .dataframe thead th {\n",
       "        text-align: right;\n",
       "    }\n",
       "</style>\n",
       "<table border=\"1\" class=\"dataframe\">\n",
       "  <thead>\n",
       "    <tr style=\"text-align: right;\">\n",
       "      <th></th>\n",
       "      <th>APMC</th>\n",
       "      <th>Commodity</th>\n",
       "      <th>Year</th>\n",
       "      <th>Month</th>\n",
       "      <th>arrivals_in_qtl</th>\n",
       "      <th>min_price</th>\n",
       "      <th>max_price</th>\n",
       "      <th>modal_price</th>\n",
       "      <th>date</th>\n",
       "      <th>district_name</th>\n",
       "      <th>state_name</th>\n",
       "    </tr>\n",
       "  </thead>\n",
       "  <tbody>\n",
       "    <tr>\n",
       "      <th>0</th>\n",
       "      <td>Ahmednagar</td>\n",
       "      <td>Bajri</td>\n",
       "      <td>2015</td>\n",
       "      <td>April</td>\n",
       "      <td>79</td>\n",
       "      <td>1406</td>\n",
       "      <td>1538</td>\n",
       "      <td>1463</td>\n",
       "      <td>2015-04-01</td>\n",
       "      <td>Ahmadnagar</td>\n",
       "      <td>Maharashtra</td>\n",
       "    </tr>\n",
       "    <tr>\n",
       "      <th>1</th>\n",
       "      <td>Ahmednagar</td>\n",
       "      <td>Bajri</td>\n",
       "      <td>2016</td>\n",
       "      <td>April</td>\n",
       "      <td>106</td>\n",
       "      <td>1788</td>\n",
       "      <td>1925</td>\n",
       "      <td>1875</td>\n",
       "      <td>2016-04-01</td>\n",
       "      <td>Ahmadnagar</td>\n",
       "      <td>Maharashtra</td>\n",
       "    </tr>\n",
       "    <tr>\n",
       "      <th>2</th>\n",
       "      <td>Ahmednagar</td>\n",
       "      <td>Wheat(Husked)</td>\n",
       "      <td>2015</td>\n",
       "      <td>April</td>\n",
       "      <td>1253</td>\n",
       "      <td>1572</td>\n",
       "      <td>1890</td>\n",
       "      <td>1731</td>\n",
       "      <td>2015-04-01</td>\n",
       "      <td>Ahmadnagar</td>\n",
       "      <td>Maharashtra</td>\n",
       "    </tr>\n",
       "    <tr>\n",
       "      <th>3</th>\n",
       "      <td>Ahmednagar</td>\n",
       "      <td>Wheat(Husked)</td>\n",
       "      <td>2016</td>\n",
       "      <td>April</td>\n",
       "      <td>387</td>\n",
       "      <td>1750</td>\n",
       "      <td>2220</td>\n",
       "      <td>1999</td>\n",
       "      <td>2016-04-01</td>\n",
       "      <td>Ahmadnagar</td>\n",
       "      <td>Maharashtra</td>\n",
       "    </tr>\n",
       "    <tr>\n",
       "      <th>4</th>\n",
       "      <td>Ahmednagar</td>\n",
       "      <td>Sorgum(Jawar)</td>\n",
       "      <td>2015</td>\n",
       "      <td>April</td>\n",
       "      <td>3825</td>\n",
       "      <td>1600</td>\n",
       "      <td>2200</td>\n",
       "      <td>1900</td>\n",
       "      <td>2015-04-01</td>\n",
       "      <td>Ahmadnagar</td>\n",
       "      <td>Maharashtra</td>\n",
       "    </tr>\n",
       "  </tbody>\n",
       "</table>\n",
       "</div>"
      ],
      "text/plain": [
       "         APMC      Commodity  Year  Month  arrivals_in_qtl  min_price  \\\n",
       "0  Ahmednagar          Bajri  2015  April               79       1406   \n",
       "1  Ahmednagar          Bajri  2016  April              106       1788   \n",
       "2  Ahmednagar  Wheat(Husked)  2015  April             1253       1572   \n",
       "3  Ahmednagar  Wheat(Husked)  2016  April              387       1750   \n",
       "4  Ahmednagar  Sorgum(Jawar)  2015  April             3825       1600   \n",
       "\n",
       "   max_price  modal_price       date district_name   state_name  \n",
       "0       1538         1463 2015-04-01    Ahmadnagar  Maharashtra  \n",
       "1       1925         1875 2016-04-01    Ahmadnagar  Maharashtra  \n",
       "2       1890         1731 2015-04-01    Ahmadnagar  Maharashtra  \n",
       "3       2220         1999 2016-04-01    Ahmadnagar  Maharashtra  \n",
       "4       2200         1900 2015-04-01    Ahmadnagar  Maharashtra  "
      ]
     },
     "execution_count": 410,
     "metadata": {},
     "output_type": "execute_result"
    }
   ],
   "source": [
    "# Removing outliers\n",
    "good_data = data_2.drop(data_2.index[index_values]).reset_index(drop = True)\n",
    "good_data.head()"
   ]
  },
  {
   "cell_type": "code",
   "execution_count": 424,
   "metadata": {},
   "outputs": [],
   "source": [
    "good_data.to_csv(\"outlier_removed_data.csv\", index = False)"
   ]
  },
  {
   "cell_type": "markdown",
   "metadata": {},
   "source": [
    "## Preprocessing data"
   ]
  },
  {
   "cell_type": "markdown",
   "metadata": {},
   "source": [
    "As we have removed the outliers, our next task is to determine the type of seasonality (Additive/Multiplicative). Before detecting seasonality we will first preprocess our data. In the below cell, I have implement the following steps:\n",
    "\n",
    "1. Add a column containing the combined information of APMC and commodity names.\n",
    "2. Then groupby the data by APMC, Commodity, Year and APMC/Commodity.\n",
    "3. Filtering the data to having at least 12 distinct prices for a commodity, to constitute a time-series of data.\n",
    "4. Storing the preprocces data into csv file named \"preprocess_data.csv\"."
   ]
  },
  {
   "cell_type": "code",
   "execution_count": 216,
   "metadata": {},
   "outputs": [
    {
     "name": "stderr",
     "output_type": "stream",
     "text": [
      "c:\\users\\dheeraj\\appdata\\local\\programs\\python\\python36\\lib\\site-packages\\ipykernel_launcher.py:5: FutureWarning: 'APMC' is both a column name and an index level.\n",
      "Defaulting to column but this will raise an ambiguity error in a future version\n",
      "  \"\"\"\n",
      "c:\\users\\dheeraj\\appdata\\local\\programs\\python\\python36\\lib\\site-packages\\ipykernel_launcher.py:5: FutureWarning: 'Commodity' is both a column name and an index level.\n",
      "Defaulting to column but this will raise an ambiguity error in a future version\n",
      "  \"\"\"\n",
      "c:\\users\\dheeraj\\appdata\\local\\programs\\python\\python36\\lib\\site-packages\\ipykernel_launcher.py:5: FutureWarning: 'Year' is both a column name and an index level.\n",
      "Defaulting to column but this will raise an ambiguity error in a future version\n",
      "  \"\"\"\n"
     ]
    }
   ],
   "source": [
    "#Preprocessing the data for detecting seasonality\n",
    "\n",
    "good_data[\"APMC/Commodity\"] = good_data[\"APMC\"] + \",\" + good_data[\"Commodity\"]\n",
    "data=good_data[[\"APMC\",\"Commodity\",\"modal_price\",\"Year\",\"APMC/Commodity\"]].groupby([\"APMC\",\"Commodity\",\"Year\",\n",
    "            \"APMC/Commodity\"],as_index=False).count().rename(columns={\"modal_price\":\"modal_price_Count\"}).reset_index(drop=True)\n",
    "data_3 = data[data['modal_price_Count'] == 12].reset_index(drop=True)\n",
    "\n",
    "distinct_APMC_commodity = data_3[\"APMC/Commodity\"].unique().tolist()\n",
    "new_data = good_data[good_data[\"APMC/Commodity\"].isin(distinct_APMC_commodity)].reset_index(drop = True)"
   ]
  },
  {
   "cell_type": "code",
   "execution_count": 10,
   "metadata": {},
   "outputs": [],
   "source": [
    "new_data.to_csv(\"preprocess_data.csv\", index = False)"
   ]
  },
  {
   "cell_type": "markdown",
   "metadata": {},
   "source": [
    "## Seasonality detection"
   ]
  },
  {
   "cell_type": "markdown",
   "metadata": {},
   "source": [
    "Now as we have obtained our preprocess data. We will now find the seasonality in our data. In the below cell I have first read the data and then I have converted the date column by using to_datetime method in pandas. I have also filter out the values whose model_price is equal to zero."
   ]
  },
  {
   "cell_type": "code",
   "execution_count": 367,
   "metadata": {},
   "outputs": [
    {
     "data": {
      "text/html": [
       "<div>\n",
       "<style scoped>\n",
       "    .dataframe tbody tr th:only-of-type {\n",
       "        vertical-align: middle;\n",
       "    }\n",
       "\n",
       "    .dataframe tbody tr th {\n",
       "        vertical-align: top;\n",
       "    }\n",
       "\n",
       "    .dataframe thead th {\n",
       "        text-align: right;\n",
       "    }\n",
       "</style>\n",
       "<table border=\"1\" class=\"dataframe\">\n",
       "  <thead>\n",
       "    <tr style=\"text-align: right;\">\n",
       "      <th></th>\n",
       "      <th>APMC</th>\n",
       "      <th>Commodity</th>\n",
       "      <th>Year</th>\n",
       "      <th>Month</th>\n",
       "      <th>arrivals_in_qtl</th>\n",
       "      <th>min_price</th>\n",
       "      <th>max_price</th>\n",
       "      <th>modal_price</th>\n",
       "      <th>date</th>\n",
       "      <th>district_name</th>\n",
       "      <th>state_name</th>\n",
       "      <th>APMC/Commodity</th>\n",
       "    </tr>\n",
       "  </thead>\n",
       "  <tbody>\n",
       "    <tr>\n",
       "      <th>0</th>\n",
       "      <td>Akole</td>\n",
       "      <td>Bajri</td>\n",
       "      <td>2015</td>\n",
       "      <td>April</td>\n",
       "      <td>52</td>\n",
       "      <td>1357</td>\n",
       "      <td>1800</td>\n",
       "      <td>1525</td>\n",
       "      <td>2015-04-01</td>\n",
       "      <td>Ahmadnagar</td>\n",
       "      <td>Maharashtra</td>\n",
       "      <td>Akole,Bajri</td>\n",
       "    </tr>\n",
       "    <tr>\n",
       "      <th>1</th>\n",
       "      <td>Akole</td>\n",
       "      <td>Bajri</td>\n",
       "      <td>2016</td>\n",
       "      <td>April</td>\n",
       "      <td>75</td>\n",
       "      <td>1460</td>\n",
       "      <td>1960</td>\n",
       "      <td>1685</td>\n",
       "      <td>2016-04-01</td>\n",
       "      <td>Ahmadnagar</td>\n",
       "      <td>Maharashtra</td>\n",
       "      <td>Akole,Bajri</td>\n",
       "    </tr>\n",
       "    <tr>\n",
       "      <th>2</th>\n",
       "      <td>Akole</td>\n",
       "      <td>Paddy-Unhusked</td>\n",
       "      <td>2015</td>\n",
       "      <td>April</td>\n",
       "      <td>113</td>\n",
       "      <td>1450</td>\n",
       "      <td>1925</td>\n",
       "      <td>1625</td>\n",
       "      <td>2015-04-01</td>\n",
       "      <td>Ahmadnagar</td>\n",
       "      <td>Maharashtra</td>\n",
       "      <td>Akole,Paddy-Unhusked</td>\n",
       "    </tr>\n",
       "    <tr>\n",
       "      <th>3</th>\n",
       "      <td>Akole</td>\n",
       "      <td>Paddy-Unhusked</td>\n",
       "      <td>2016</td>\n",
       "      <td>April</td>\n",
       "      <td>448</td>\n",
       "      <td>1500</td>\n",
       "      <td>2017</td>\n",
       "      <td>1704</td>\n",
       "      <td>2016-04-01</td>\n",
       "      <td>Ahmadnagar</td>\n",
       "      <td>Maharashtra</td>\n",
       "      <td>Akole,Paddy-Unhusked</td>\n",
       "    </tr>\n",
       "    <tr>\n",
       "      <th>4</th>\n",
       "      <td>Akole</td>\n",
       "      <td>Wheat(Husked)</td>\n",
       "      <td>2015</td>\n",
       "      <td>April</td>\n",
       "      <td>164</td>\n",
       "      <td>1450</td>\n",
       "      <td>1975</td>\n",
       "      <td>1644</td>\n",
       "      <td>2015-04-01</td>\n",
       "      <td>Ahmadnagar</td>\n",
       "      <td>Maharashtra</td>\n",
       "      <td>Akole,Wheat(Husked)</td>\n",
       "    </tr>\n",
       "  </tbody>\n",
       "</table>\n",
       "</div>"
      ],
      "text/plain": [
       "    APMC       Commodity  Year  Month  arrivals_in_qtl  min_price  max_price  \\\n",
       "0  Akole           Bajri  2015  April               52       1357       1800   \n",
       "1  Akole           Bajri  2016  April               75       1460       1960   \n",
       "2  Akole  Paddy-Unhusked  2015  April              113       1450       1925   \n",
       "3  Akole  Paddy-Unhusked  2016  April              448       1500       2017   \n",
       "4  Akole   Wheat(Husked)  2015  April              164       1450       1975   \n",
       "\n",
       "   modal_price       date district_name   state_name        APMC/Commodity  \n",
       "0         1525 2015-04-01    Ahmadnagar  Maharashtra           Akole,Bajri  \n",
       "1         1685 2016-04-01    Ahmadnagar  Maharashtra           Akole,Bajri  \n",
       "2         1625 2015-04-01    Ahmadnagar  Maharashtra  Akole,Paddy-Unhusked  \n",
       "3         1704 2016-04-01    Ahmadnagar  Maharashtra  Akole,Paddy-Unhusked  \n",
       "4         1644 2015-04-01    Ahmadnagar  Maharashtra   Akole,Wheat(Husked)  "
      ]
     },
     "execution_count": 367,
     "metadata": {},
     "output_type": "execute_result"
    }
   ],
   "source": [
    "data_seasonal = pd.read_csv(\"preprocess_data.csv\")\n",
    "data_seasonal[\"date\"]=pd.to_datetime(data_seasonal[\"date\"])\n",
    "drop_index = data_seasonal[data_seasonal[\"modal_price\"] == 0].index\n",
    "data_seasonal = data_seasonal.drop(data_seasonal.index[[drop_index]])\n",
    "data_seasonal.head()"
   ]
  },
  {
   "cell_type": "markdown",
   "metadata": {},
   "source": [
    "Now in order to check whether the time series is stationary or not, we will plot the autocoorelation function. This will help us in identifying whether the current price is dependent upon the prices at some prior times or not. "
   ]
  },
  {
   "cell_type": "code",
   "execution_count": 411,
   "metadata": {},
   "outputs": [
    {
     "data": {
      "image/png": "[encoded data removed]",
      "text/plain": [
       "<Figure size 921.6x633.6 with 1 Axes>"
      ]
     },
     "metadata": {},
     "output_type": "display_data"
    }
   ],
   "source": [
    "#Autocorrelation check for modal price\n",
    "a = plot_acf(data_seasonal[\"modal_price\"], lags = 4)"
   ]
  },
  {
   "cell_type": "markdown",
   "metadata": {},
   "source": [
    "Form the above autocorrelation plot, as the correlation values are decreasing with time it is clear that there is time dependent patter in our time series."
   ]
  },
  {
   "cell_type": "markdown",
   "metadata": {},
   "source": [
    "Now we will perform Augmented Dickey-Fuller (ADF) test. This test will yields a p-value under the null hypothesis of non-stationarity. A p-value of <0.05 therefore signifies stationarity."
   ]
  },
  {
   "cell_type": "code",
   "execution_count": 375,
   "metadata": {},
   "outputs": [
    {
     "name": "stdout",
     "output_type": "stream",
     "text": [
      "Results of Augmented Dickey-Fuller test:\n",
      "test statistic          -1.548406\n",
      "p-value                  0.509444\n",
      "# of lags                0.000000\n",
      "# of observations       25.000000\n",
      "Critical Value (1%)     -3.723863\n",
      "Critical Value (5%)     -2.986489\n",
      "Critical Value (10%)    -2.632800\n",
      "dtype: float64\n"
     ]
    }
   ],
   "source": [
    "from statsmodels.tsa.stattools import adfuller\n",
    "def adf_test(y):\n",
    "    # perform Augmented Dickey Fuller test\n",
    "    print('Results of Augmented Dickey-Fuller test:')\n",
    "    dftest = adfuller(y, autolag='BIC')\n",
    "    dfoutput = pd.Series(dftest[0:4], index=['test statistic', 'p-value', '# of lags', '# of observations'])\n",
    "    for key, value in dftest[4].items():\n",
    "        dfoutput['Critical Value ({})'.format(key)] = value\n",
    "    print(dfoutput)\n",
    " \n",
    "# apply the function to the time series\n",
    "adf_test(s[\"modal_price\"])"
   ]
  },
  {
   "cell_type": "markdown",
   "metadata": {},
   "source": [
    "As we can clearly see that the value of p i.e p = 0.509 is much larger than 0.05, therefor it confirms that our time series is non stationary and there is some seasonality present in our data."
   ]
  },
  {
   "cell_type": "markdown",
   "metadata": {},
   "source": [
    "Now, as we have confirmed that our data is non stationary, we will detect the type of seasonality i.e whether it is additive or multiplicative. We will do this in following steps:\n",
    "1. We will perform seasonal decomposition on the modal_prices. Additive decomposition is (time series = trend + seasonality + white noise) while multiplicative decomposition is (time series = trend x seasonality x white noise). Trend is how things are overall changing. Seasonality how things change within a given period e.g. a year, month, week, day. Error/residual/irregular activity not explained by the trend or the seasonal value. In order to perform decomposition I have used seasonal_decompose from statsmodel.\n",
    "2. After performing seasonal decomposition, we have to find type of seasonality. To this I have taken help of autocorrealtion function. I have first obtain the residual values from both the type of seasonal decomposition, then I have check the whether how much correlation between data points is still encoded within the residuals. As some of the correlations could be negative I have select the type with the smallest sum of squares of correlation values.\n",
    "3. After finding the type of seasonality, I have deseasonalised them. If seasonality is additive, then I have taken the difference of modal price values and seasonal values. If seasonality is multiplicative, then I have divide the modal price vlaues by seasonal values."
   ]
  },
  {
   "cell_type": "code",
   "execution_count": 53,
   "metadata": {},
   "outputs": [],
   "source": [
    "def detect_type_of_seasonality_and_deseasonalise(data,distinct_APMC_commodity):\n",
    "    season_dict = {}\n",
    "    frames = []\n",
    "    for i in range(len(distinct_APMC_commodity)):\n",
    "        n_data =  data[data[\"APMC/Commodity\"] == distinct_APMC_commodity[i]]\n",
    "        comm_data = n_data\n",
    "        comm_data.index = comm_data[\"date\"]\n",
    "        comm_data = comm_data.resample(\"m\").mean()\n",
    "        comm_data = comm_data.fillna(int(comm_data['modal_price'].mean()))\n",
    "        try:\n",
    "            decomposition_add = seasonal_decompose(comm_data[\"modal_price\"], model=\"additive\", freq = 12)\n",
    "            decomposition_mult = seasonal_decompose(comm_data[\"modal_price\"], model=\"multiplicative\", freq = 12)\n",
    "            residue_add = sum(np.square(acf(decomposition_add.resid, missing = \"drop\")))\n",
    "            residue_mult = sum(np.square(acf(decomposition_mult.resid, missing = \"drop\")))\n",
    "        except:\n",
    "            try:\n",
    "                decomposition_add = seasonal_decompose(comm_data[\"modal_price\"], model=\"additive\", freq = 6)\n",
    "                decomposition_mult = seasonal_decompose(comm_data[\"modal_price\"], model=\"multiplicative\", freq = 6)\n",
    "                residue_add = sum(np.square(acf(decomposition_add.resid, missing = \"drop\")))\n",
    "                residue_mult = sum(np.square(acf(decomposition_mult.resid, missing = \"drop\")))    \n",
    "            except: \n",
    "                print(\"***************************************************************\")\n",
    "                decomposition_add = seasonal_decompose(comm_data[\"modal_price\"], model=\"additive\", freq = 2)\n",
    "                decomposition_mult = seasonal_decompose(comm_data[\"modal_price\"], model=\"multiplicative\", freq = 2)\n",
    "                residue_add = sum(np.square(acf(decomposition_add.resid, missing = \"drop\")))\n",
    "                residue_mult = sum(np.square(acf(decomposition_mult.resid, missing = \"drop\")))\n",
    "        \n",
    "        if residue_add < residue_mult:\n",
    "            \n",
    "            comm = distinct_APMC_commodity[i]\n",
    "            season_dict[comm] = \"Additive\" \n",
    "            comm_data['Seasonal'] = decomposition_add.seasonal.values\n",
    "            values=comm_data[\"modal_price\"]-comm_data['Seasonal']\n",
    "            values=values.tolist()\n",
    "            indexes=n_data.index.tolist()\n",
    "            values_range=range(0,len(values))\n",
    "            for index,value in zip(indexes,values_range):\n",
    "                n_data.at[index,\"deseasonalise_price\"]=values[value]\n",
    "            n_data[\"seasonality_type\"] = \"Additive\"\n",
    "            frames.append(n_data)\n",
    "            \n",
    "        else:\n",
    "            \n",
    "            comm = distinct_APMC_commodity[i]\n",
    "            season_dict[comm] = \"multiplicative\"\n",
    "            comm_data['Seasonal'] = decomposition_mult.seasonal.values\n",
    "            values=comm_data[\"modal_price\"]/comm_data['Seasonal']\n",
    "            values=values.tolist()\n",
    "            indexes=n_data.index.tolist()\n",
    "            values_range=range(0,len(values))\n",
    "            for index,value in zip(indexes,values_range):\n",
    "                n_data.at[index,\"deseasonalise_price\"]=values[value]\n",
    "            n_data[\"seasonality_type\"] = \"multiplicative\"\n",
    "            frames.append(n_data)\n",
    "            \n",
    "    deseason_data = pd.concat(frames).reset_index(drop = True)\n",
    "    return deseason_data, season_dict"
   ]
  },
  {
   "cell_type": "code",
   "execution_count": 54,
   "metadata": {},
   "outputs": [
    {
     "name": "stderr",
     "output_type": "stream",
     "text": [
      "c:\\users\\dheeraj\\appdata\\local\\programs\\python\\python36\\lib\\site-packages\\pandas\\core\\indexing.py:357: SettingWithCopyWarning: \n",
      "A value is trying to be set on a copy of a slice from a DataFrame.\n",
      "Try using .loc[row_indexer,col_indexer] = value instead\n",
      "\n",
      "See the caveats in the documentation: http://pandas.pydata.org/pandas-docs/stable/indexing.html#indexing-view-versus-copy\n",
      "  self.obj[key] = _infer_fill_value(value)\n",
      "c:\\users\\dheeraj\\appdata\\local\\programs\\python\\python36\\lib\\site-packages\\pandas\\core\\indexing.py:537: SettingWithCopyWarning: \n",
      "A value is trying to be set on a copy of a slice from a DataFrame.\n",
      "Try using .loc[row_indexer,col_indexer] = value instead\n",
      "\n",
      "See the caveats in the documentation: http://pandas.pydata.org/pandas-docs/stable/indexing.html#indexing-view-versus-copy\n",
      "  self.obj[item] = s\n",
      "c:\\users\\dheeraj\\appdata\\local\\programs\\python\\python36\\lib\\site-packages\\ipykernel_launcher.py:41: SettingWithCopyWarning: \n",
      "A value is trying to be set on a copy of a slice from a DataFrame.\n",
      "Try using .loc[row_indexer,col_indexer] = value instead\n",
      "\n",
      "See the caveats in the documentation: http://pandas.pydata.org/pandas-docs/stable/indexing.html#indexing-view-versus-copy\n",
      "c:\\users\\dheeraj\\appdata\\local\\programs\\python\\python36\\lib\\site-packages\\ipykernel_launcher.py:55: SettingWithCopyWarning: \n",
      "A value is trying to be set on a copy of a slice from a DataFrame.\n",
      "Try using .loc[row_indexer,col_indexer] = value instead\n",
      "\n",
      "See the caveats in the documentation: http://pandas.pydata.org/pandas-docs/stable/indexing.html#indexing-view-versus-copy\n",
      "c:\\users\\dheeraj\\appdata\\local\\programs\\python\\python36\\lib\\site-packages\\statsmodels\\tsa\\stattools.py:349: RuntimeWarning: invalid value encountered in double_scalars\n",
      "  xo = x - x.sum()/notmask_int.sum()\n",
      "c:\\users\\dheeraj\\appdata\\local\\programs\\python\\python36\\lib\\site-packages\\statsmodels\\tsa\\stattools.py:475: RuntimeWarning: invalid value encountered in true_divide\n",
      "  acf = avf[:nlags + 1] / avf[0]\n"
     ]
    },
    {
     "name": "stdout",
     "output_type": "stream",
     "text": [
      "***************************************************************\n",
      "***************************************************************\n"
     ]
    }
   ],
   "source": [
    "m,n = detect_type_of_seasonality_and_deseasonalise(data_seasonal,distinct_APMC_commodity )"
   ]
  },
  {
   "cell_type": "markdown",
   "metadata": {},
   "source": [
    "Now above function returns deseasonalised data and a dictionary of commodities and type of seasonality present in them. I have stored them in the csv files names \"deseasonalised_data.csv\" and \"Seasonal_type_list.csv\" respectively."
   ]
  },
  {
   "cell_type": "code",
   "execution_count": 55,
   "metadata": {},
   "outputs": [],
   "source": [
    "m.to_csv(\"deseasonalised_data.csv\",index = False )"
   ]
  },
  {
   "cell_type": "code",
   "execution_count": 75,
   "metadata": {},
   "outputs": [],
   "source": [
    "seasonal_types = pd.DataFrame.from_dict(n, orient='index')\n",
    "seasonal_types[\"APMC/Commodity\"] = list(seasonal_types.index)\n",
    "seasonal_types = seasonal_types.reset_index(drop = True)\n",
    "seasonal_types.columns = [\"Type\", \"APMC/Commodity\"]\n",
    "seasonal_types.to_csv(\"Seasonal_type_list.csv\",index = False )"
   ]
  },
  {
   "cell_type": "code",
   "execution_count": 422,
   "metadata": {},
   "outputs": [
    {
     "data": {
      "image/png": "[encoded data removed]",
      "text/plain": [
       "<Figure size 921.6x633.6 with 4 Axes>"
      ]
     },
     "metadata": {},
     "output_type": "display_data"
    }
   ],
   "source": [
    "# just an example of how additive decomposition on whole data looks like.\n",
    "s = data_seasonal\n",
    "s.index = s[\"date\"]\n",
    "s = s.resample(\"m\").mean()\n",
    "s = s.fillna(int(s['modal_price'].mean()))\n",
    "decompose_additive = seasonal_decompose(s[\"modal_price\"], model=\"additive\", freq=12).plot()"
   ]
  },
  {
   "cell_type": "markdown",
   "metadata": {},
   "source": [
    "### Flag set of APMC/mandis and commodities with highest price fluctuation across different commodities in each relevant season, and year"
   ]
  },
  {
   "cell_type": "markdown",
   "metadata": {},
   "source": [
    "Now our next task is to flag set the price fluctuations. I have first include only year to find the fluctuations. To do this I have performed following steps:\n",
    "1. I have add a new column which contain the absolute fluctutaions. Absolute fluctuation is the difference of max_price and min_price.\n",
    "2. Then I added another column which contain relative fluctuations. \n",
    "3. Then I have grouped the data by APMC, Commodity and Year. \n",
    "4. After this I have just reordered the data by sorting the absolute fluctuations to find the highest price fluctuations accross different commodities in each relevant year."
   ]
  },
  {
   "cell_type": "code",
   "execution_count": 222,
   "metadata": {},
   "outputs": [],
   "source": [
    "flag_data = good_data\n",
    "flag_data[\"absolute_fluctuation\"] = flag_data[\"max_price\"] - flag_data[\"min_price\"]\n",
    "flag_data[\"relative_fluctuation\"] = (flag_data[\"absolute_fluctuation\"] *100)/flag_data[\"min_price\"]"
   ]
  },
  {
   "cell_type": "code",
   "execution_count": 223,
   "metadata": {},
   "outputs": [
    {
     "data": {
      "text/html": [
       "<div>\n",
       "<style scoped>\n",
       "    .dataframe tbody tr th:only-of-type {\n",
       "        vertical-align: middle;\n",
       "    }\n",
       "\n",
       "    .dataframe tbody tr th {\n",
       "        vertical-align: top;\n",
       "    }\n",
       "\n",
       "    .dataframe thead th {\n",
       "        text-align: right;\n",
       "    }\n",
       "</style>\n",
       "<table border=\"1\" class=\"dataframe\">\n",
       "  <thead>\n",
       "    <tr style=\"text-align: right;\">\n",
       "      <th></th>\n",
       "      <th>APMC</th>\n",
       "      <th>Commodity</th>\n",
       "      <th>Year</th>\n",
       "      <th>min_price</th>\n",
       "      <th>max_price</th>\n",
       "      <th>absolute_fluctuation</th>\n",
       "      <th>relative_fluctuation</th>\n",
       "    </tr>\n",
       "  </thead>\n",
       "  <tbody>\n",
       "    <tr>\n",
       "      <th>0</th>\n",
       "      <td>Aamgaon</td>\n",
       "      <td>Paddy-Unhusked</td>\n",
       "      <td>2014</td>\n",
       "      <td>1645</td>\n",
       "      <td>1843</td>\n",
       "      <td>198</td>\n",
       "      <td>12.036474</td>\n",
       "    </tr>\n",
       "    <tr>\n",
       "      <th>1</th>\n",
       "      <td>Aamgaon</td>\n",
       "      <td>Paddy-Unhusked</td>\n",
       "      <td>2014</td>\n",
       "      <td>1591</td>\n",
       "      <td>1749</td>\n",
       "      <td>158</td>\n",
       "      <td>9.930861</td>\n",
       "    </tr>\n",
       "    <tr>\n",
       "      <th>2</th>\n",
       "      <td>Aamgaon</td>\n",
       "      <td>Paddy-Unhusked</td>\n",
       "      <td>2014</td>\n",
       "      <td>1438</td>\n",
       "      <td>1577</td>\n",
       "      <td>139</td>\n",
       "      <td>9.666203</td>\n",
       "    </tr>\n",
       "    <tr>\n",
       "      <th>3</th>\n",
       "      <td>Aamgaon</td>\n",
       "      <td>Paddy-Unhusked</td>\n",
       "      <td>2014</td>\n",
       "      <td>1481</td>\n",
       "      <td>1554</td>\n",
       "      <td>73</td>\n",
       "      <td>4.929102</td>\n",
       "    </tr>\n",
       "    <tr>\n",
       "      <th>4</th>\n",
       "      <td>Aamgaon</td>\n",
       "      <td>Paddy-Unhusked</td>\n",
       "      <td>2015</td>\n",
       "      <td>1459</td>\n",
       "      <td>1555</td>\n",
       "      <td>96</td>\n",
       "      <td>6.579849</td>\n",
       "    </tr>\n",
       "  </tbody>\n",
       "</table>\n",
       "</div>"
      ],
      "text/plain": [
       "      APMC       Commodity  Year  min_price  max_price  absolute_fluctuation  \\\n",
       "0  Aamgaon  Paddy-Unhusked  2014       1645       1843                   198   \n",
       "1  Aamgaon  Paddy-Unhusked  2014       1591       1749                   158   \n",
       "2  Aamgaon  Paddy-Unhusked  2014       1438       1577                   139   \n",
       "3  Aamgaon  Paddy-Unhusked  2014       1481       1554                    73   \n",
       "4  Aamgaon  Paddy-Unhusked  2015       1459       1555                    96   \n",
       "\n",
       "   relative_fluctuation  \n",
       "0             12.036474  \n",
       "1              9.930861  \n",
       "2              9.666203  \n",
       "3              4.929102  \n",
       "4              6.579849  "
      ]
     },
     "execution_count": 223,
     "metadata": {},
     "output_type": "execute_result"
    }
   ],
   "source": [
    "flag_data = flag_data[[\"APMC\",\"Commodity\",\"Year\",\"min_price\",\"max_price\",\"absolute_fluctuation\",\"relative_fluctuation\"]].groupby([\"APMC\", \"Year\", \"Commodity\"],as_index=False).apply(lambda x: x.sort_values(by = 'absolute_fluctuation', ascending = False)).reset_index(drop=True)\n",
    "flag_data.head()"
   ]
  },
  {
   "cell_type": "code",
   "execution_count": 224,
   "metadata": {},
   "outputs": [
    {
     "data": {
      "text/html": [
       "<div>\n",
       "<style scoped>\n",
       "    .dataframe tbody tr th:only-of-type {\n",
       "        vertical-align: middle;\n",
       "    }\n",
       "\n",
       "    .dataframe tbody tr th {\n",
       "        vertical-align: top;\n",
       "    }\n",
       "\n",
       "    .dataframe thead th {\n",
       "        text-align: right;\n",
       "    }\n",
       "</style>\n",
       "<table border=\"1\" class=\"dataframe\">\n",
       "  <thead>\n",
       "    <tr style=\"text-align: right;\">\n",
       "      <th></th>\n",
       "      <th>APMC</th>\n",
       "      <th>Commodity</th>\n",
       "      <th>Year</th>\n",
       "      <th>min_price</th>\n",
       "      <th>max_price</th>\n",
       "      <th>absolute_fluctuation</th>\n",
       "      <th>relative_fluctuation</th>\n",
       "    </tr>\n",
       "  </thead>\n",
       "  <tbody>\n",
       "    <tr>\n",
       "      <th>0</th>\n",
       "      <td>Atpadi</td>\n",
       "      <td>Goats</td>\n",
       "      <td>2016</td>\n",
       "      <td>4000</td>\n",
       "      <td>1600090</td>\n",
       "      <td>1596090</td>\n",
       "      <td>39902.250000</td>\n",
       "    </tr>\n",
       "    <tr>\n",
       "      <th>1</th>\n",
       "      <td>Mumbai</td>\n",
       "      <td>Cashewnuts</td>\n",
       "      <td>2015</td>\n",
       "      <td>70000</td>\n",
       "      <td>140000</td>\n",
       "      <td>70000</td>\n",
       "      <td>100.000000</td>\n",
       "    </tr>\n",
       "    <tr>\n",
       "      <th>2</th>\n",
       "      <td>Mumbai</td>\n",
       "      <td>Cardamom</td>\n",
       "      <td>2016</td>\n",
       "      <td>86471</td>\n",
       "      <td>152941</td>\n",
       "      <td>66470</td>\n",
       "      <td>76.869702</td>\n",
       "    </tr>\n",
       "    <tr>\n",
       "      <th>3</th>\n",
       "      <td>Sangli-Phale Bhajipalam</td>\n",
       "      <td>Mango</td>\n",
       "      <td>2016</td>\n",
       "      <td>17422</td>\n",
       "      <td>83075</td>\n",
       "      <td>65653</td>\n",
       "      <td>376.839628</td>\n",
       "    </tr>\n",
       "    <tr>\n",
       "      <th>4</th>\n",
       "      <td>Mumbai</td>\n",
       "      <td>CARDAMOM</td>\n",
       "      <td>2016</td>\n",
       "      <td>110313</td>\n",
       "      <td>174375</td>\n",
       "      <td>64062</td>\n",
       "      <td>58.072938</td>\n",
       "    </tr>\n",
       "  </tbody>\n",
       "</table>\n",
       "</div>"
      ],
      "text/plain": [
       "                      APMC   Commodity  Year  min_price  max_price  \\\n",
       "0                   Atpadi       Goats  2016       4000    1600090   \n",
       "1                   Mumbai  Cashewnuts  2015      70000     140000   \n",
       "2                   Mumbai    Cardamom  2016      86471     152941   \n",
       "3  Sangli-Phale Bhajipalam       Mango  2016      17422      83075   \n",
       "4                   Mumbai    CARDAMOM  2016     110313     174375   \n",
       "\n",
       "   absolute_fluctuation  relative_fluctuation  \n",
       "0               1596090          39902.250000  \n",
       "1                 70000            100.000000  \n",
       "2                 66470             76.869702  \n",
       "3                 65653            376.839628  \n",
       "4                 64062             58.072938  "
      ]
     },
     "execution_count": 224,
     "metadata": {},
     "output_type": "execute_result"
    }
   ],
   "source": [
    "# data showing highest price fluctuations.\n",
    "flag_data = flag_data.sort_values(by = [\"absolute_fluctuation\"], ascending = False).reset_index(drop = True)\n",
    "flag_data.head()"
   ]
  },
  {
   "cell_type": "code",
   "execution_count": 412,
   "metadata": {},
   "outputs": [],
   "source": [
    "flag_data.to_csv(\"flag_set_data_year.csv\", index = False)"
   ]
  },
  {
   "cell_type": "markdown",
   "metadata": {},
   "source": [
    "Now we will include both year and seasons. There are three types of crops present in the CMO_MSP_MANDI data which are \"Kharif crops\", \"Rabi crops\" and \"other crops\". We will include only those commodities which are present in both CMO_MSP_MANDI data and monthly_cmo_data. And then we will find the highest price fluctuations. "
   ]
  },
  {
   "cell_type": "code",
   "execution_count": 415,
   "metadata": {},
   "outputs": [
    {
     "data": {
      "text/html": [
       "<div>\n",
       "<style scoped>\n",
       "    .dataframe tbody tr th:only-of-type {\n",
       "        vertical-align: middle;\n",
       "    }\n",
       "\n",
       "    .dataframe tbody tr th {\n",
       "        vertical-align: top;\n",
       "    }\n",
       "\n",
       "    .dataframe thead th {\n",
       "        text-align: right;\n",
       "    }\n",
       "</style>\n",
       "<table border=\"1\" class=\"dataframe\">\n",
       "  <thead>\n",
       "    <tr style=\"text-align: right;\">\n",
       "      <th></th>\n",
       "      <th>APMC</th>\n",
       "      <th>Commodity</th>\n",
       "      <th>Year</th>\n",
       "      <th>min_price</th>\n",
       "      <th>max_price</th>\n",
       "      <th>absolute_fluctuation</th>\n",
       "      <th>relative_fluctuation</th>\n",
       "    </tr>\n",
       "  </thead>\n",
       "  <tbody>\n",
       "    <tr>\n",
       "      <th>0</th>\n",
       "      <td>Mumbai</td>\n",
       "      <td>RICE(PADDY-HUS)</td>\n",
       "      <td>2016</td>\n",
       "      <td>4562</td>\n",
       "      <td>9381</td>\n",
       "      <td>4819</td>\n",
       "      <td>105.633494</td>\n",
       "    </tr>\n",
       "    <tr>\n",
       "      <th>1</th>\n",
       "      <td>Sangali</td>\n",
       "      <td>RICE(PADDY-HUS)</td>\n",
       "      <td>2016</td>\n",
       "      <td>2164</td>\n",
       "      <td>5586</td>\n",
       "      <td>3422</td>\n",
       "      <td>158.133087</td>\n",
       "    </tr>\n",
       "    <tr>\n",
       "      <th>2</th>\n",
       "      <td>Solapur</td>\n",
       "      <td>RICE(PADDY-HUS)</td>\n",
       "      <td>2016</td>\n",
       "      <td>2265</td>\n",
       "      <td>5300</td>\n",
       "      <td>3035</td>\n",
       "      <td>133.995585</td>\n",
       "    </tr>\n",
       "    <tr>\n",
       "      <th>3</th>\n",
       "      <td>Karjat (Raigad)</td>\n",
       "      <td>RICE(PADDY-HUS)</td>\n",
       "      <td>2016</td>\n",
       "      <td>2000</td>\n",
       "      <td>5022</td>\n",
       "      <td>3022</td>\n",
       "      <td>151.100000</td>\n",
       "    </tr>\n",
       "    <tr>\n",
       "      <th>4</th>\n",
       "      <td>Kolhapur-Laxmipuri</td>\n",
       "      <td>RICE(PADDY-HUS)</td>\n",
       "      <td>2016</td>\n",
       "      <td>2100</td>\n",
       "      <td>4910</td>\n",
       "      <td>2810</td>\n",
       "      <td>133.809524</td>\n",
       "    </tr>\n",
       "  </tbody>\n",
       "</table>\n",
       "</div>"
      ],
      "text/plain": [
       "                 APMC        Commodity  Year  min_price  max_price  \\\n",
       "0              Mumbai  RICE(PADDY-HUS)  2016       4562       9381   \n",
       "1             Sangali  RICE(PADDY-HUS)  2016       2164       5586   \n",
       "2             Solapur  RICE(PADDY-HUS)  2016       2265       5300   \n",
       "3     Karjat (Raigad)  RICE(PADDY-HUS)  2016       2000       5022   \n",
       "4  Kolhapur-Laxmipuri  RICE(PADDY-HUS)  2016       2100       4910   \n",
       "\n",
       "   absolute_fluctuation  relative_fluctuation  \n",
       "0                  4819            105.633494  \n",
       "1                  3422            158.133087  \n",
       "2                  3035            133.995585  \n",
       "3                  3022            151.100000  \n",
       "4                  2810            133.809524  "
      ]
     },
     "execution_count": 415,
     "metadata": {},
     "output_type": "execute_result"
    }
   ],
   "source": [
    "flag_data_year_season = flag_data[flag_data[\"Commodity\"].isin(unique_commodity)].reset_index(drop = True)\n",
    "flag_data_year_season.head()"
   ]
  },
  {
   "cell_type": "markdown",
   "metadata": {},
   "source": [
    "It is clearly visible that if we inculde only year then the price fluctuations are high but when we taken account of both season and year fluctuations are low as compare to that of previous one. Now we will write this data in a csv file named \"flag_data_year_season.csv\"."
   ]
  },
  {
   "cell_type": "code",
   "execution_count": 416,
   "metadata": {},
   "outputs": [],
   "source": [
    "flag_data_year_season.to_csv(\"flag_data_year_season.csv\", index = False)"
   ]
  },
  {
   "cell_type": "markdown",
   "metadata": {},
   "source": [
    "## Compare prices in APMC/Mandi with MSP(Minimum Support Price)- raw and deseasonalised"
   ]
  },
  {
   "cell_type": "markdown",
   "metadata": {},
   "source": [
    "Now we have to compare prices. In the below cell, I have compare the prices of Aamgaon APMC having \"Paddy-unhusked\" as a commodity. We can compare the prices of other commodities and APMC as well. To that, we have to just change the APMC and Commodity names in the below cell."
   ]
  },
  {
   "cell_type": "code",
   "execution_count": 421,
   "metadata": {},
   "outputs": [
    {
     "data": {
      "text/plain": [
       "<matplotlib.legend.Legend at 0x19f6044d2b0>"
      ]
     },
     "execution_count": 421,
     "metadata": {},
     "output_type": "execute_result"
    },
    {
     "data": {
      "image/png": "[encoded data removed]",
      "text/plain": [
       "<Figure size 921.6x633.6 with 1 Axes>"
      ]
     },
     "metadata": {},
     "output_type": "display_data"
    }
   ],
   "source": [
    "#Plottig the price of bajri \n",
    "raw_Paddy_Unhusked = data_2[(data_2[\"APMC\"] == \"Aamgaon\") & (data_2[\"Commodity\"] == \"Paddy-Unhusked\")].reset_index(drop = True)\n",
    "deseason_Paddy_Unhusked = m[(m[\"APMC/Commodity\"] == \"Aamgaon,Paddy-Unhusked\") & (m[\"deseasonalise_price\"] > 0)].reset_index(drop = True)\n",
    "msp_Paddy_Unhusked = data_1[(data_1[\"commodity\"] == \"PADDY-UNHUSKED\") & (data_1[\"year\"] > 2013)].reset_index(drop = True)\n",
    "msp_Paddy_Unhusked[\"year\"]=pd.to_datetime(msp_Paddy_Unhusked[\"year\"], format= '%Y')\n",
    "raw_Paddy_Unhusked.index = raw_Paddy_Unhusked[\"date\"]\n",
    "deseason_Paddy_Unhusked.index = deseason_Paddy_Unhusked[\"date\"]\n",
    "msp_Paddy_Unhusked[\"year\"] = pd.to_datetime(msp_Paddy_Unhusked[\"year\"])\n",
    "msp_Paddy_Unhusked.index = msp_Paddy_Unhusked[\"year\"]\n",
    "raw_Paddy_Unhusked[\"modal_price\"].plot()\n",
    "deseason_Paddy_Unhusked[\"deseasonalise_price\"].plot()\n",
    "msp_Paddy_Unhusked[\"msprice\"].plot()\n",
    "plt.legend(['Actual price', 'Deseasonalized', 'MSP'])"
   ]
  },
  {
   "cell_type": "code",
   "execution_count": null,
   "metadata": {},
   "outputs": [],
   "source": []
  }
 ],
 "metadata": {
  "kernelspec": {
   "display_name": "Python 3",
   "language": "python",
   "name": "python3"
  },
  "language_info": {
   "codemirror_mode": {
    "name": "ipython",
    "version": 3
   },
   "file_extension": ".py",
   "mimetype": "text/x-python",
   "name": "python",
   "nbconvert_exporter": "python",
   "pygments_lexer": "ipython3",
   "version": "3.6.4"
  }
 },
 "nbformat": 4,
 "nbformat_minor": 2
}
